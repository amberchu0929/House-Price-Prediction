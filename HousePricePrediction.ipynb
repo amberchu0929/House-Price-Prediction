{
 "cells": [
  {
   "cell_type": "markdown",
   "id": "93369cb5",
   "metadata": {},
   "source": [
    "\n",
    "# House Price Prediction - Kaggle Competition\n",
    "\n",
    "## Introduction\n",
    "This project predicts house sale prices using the **House Prices: Advanced Regression Techniques** dataset from Kaggle.  \n",
    "By applying data preprocessing, feature engineering, and regression modeling, we aim to create an accurate predictive model that can assist buyers, sellers, and real estate professionals in making informed decisions.\n",
    "\n",
    "**Goals:**\n",
    "- Understand key factors affecting house prices\n",
    "- Apply data cleaning and feature engineering techniques\n",
    "- Build and evaluate predictive models\n"
   ]
  },
  {
   "cell_type": "code",
   "execution_count": null,
   "id": "d743f65a",
   "metadata": {},
   "outputs": [],
   "source": [
    "\n",
    "import pandas as pd\n",
    "import numpy as np\n",
    "import matplotlib.pyplot as plt\n",
    "import seaborn as sns\n",
    "\n",
    "from sklearn.model_selection import train_test_split, cross_val_score\n",
    "from sklearn.ensemble import RandomForestRegressor, GradientBoostingRegressor\n",
    "from sklearn.linear_model import LinearRegression\n",
    "from sklearn.metrics import mean_squared_error, r2_score\n",
    "\n",
    "sns.set(style=\"whitegrid\")\n"
   ]
  },
  {
   "cell_type": "markdown",
   "id": "59b20416",
   "metadata": {},
   "source": [
    "\n",
    "## Data Loading\n",
    "Dataset: [Kaggle House Prices: Advanced Regression Techniques](https://www.kaggle.com/c/house-prices-advanced-regression-techniques)  \n",
    "Please place the dataset (`train.csv`) in the `data/` folder before running this notebook.\n"
   ]
  },
  {
   "cell_type": "code",
   "execution_count": null,
   "id": "b6c4e31b",
   "metadata": {},
   "outputs": [],
   "source": [
    "\n",
    "# Load dataset\n",
    "df = pd.read_csv(\"data/train.csv\")\n",
    "df.head()\n"
   ]
  },
  {
   "cell_type": "markdown",
   "id": "406e513d",
   "metadata": {},
   "source": [
    "\n",
    "## Data Preprocessing\n",
    "We will:\n",
    "1. Handle missing values\n",
    "2. Convert categorical variables into dummy variables\n",
    "3. Remove unnecessary columns\n"
   ]
  },
  {
   "cell_type": "code",
   "execution_count": null,
   "id": "93fcee30",
   "metadata": {},
   "outputs": [],
   "source": [
    "\n",
    "# Check missing values\n",
    "missing_values = df.isnull().sum()\n",
    "print(missing_values[missing_values > 0].sort_values(ascending=False))\n",
    "\n",
    "# Example: Fill missing numerical with median, categorical with mode\n",
    "for col in df.columns:\n",
    "    if df[col].dtype == \"object\":\n",
    "        df[col] = df[col].fillna(df[col].mode()[0])\n",
    "    else:\n",
    "        df[col] = df[col].fillna(df[col].median())\n",
    "\n",
    "# Convert categorical to dummy variables\n",
    "df = pd.get_dummies(df, drop_first=True)\n"
   ]
  },
  {
   "cell_type": "markdown",
   "id": "a12775c8",
   "metadata": {},
   "source": [
    "\n",
    "## Feature Engineering\n",
    "We will create additional features such as:\n",
    "- **HouseAge**: Age of the house\n",
    "- **GarageAge**: Age of the garage\n",
    "- **Renovated**: Whether the house was renovated\n"
   ]
  },
  {
   "cell_type": "code",
   "execution_count": null,
   "id": "8eaf7e76",
   "metadata": {},
   "outputs": [],
   "source": [
    "\n",
    "# House Age\n",
    "df[\"HouseAge\"] = df[\"YrSold\"] - df[\"YearBuilt\"]\n",
    "\n",
    "# Garage Age\n",
    "df[\"GarageAge\"] = np.where(df[\"GarageYrBlt\"] > 0, df[\"YrSold\"] - df[\"GarageYrBlt\"], 0)\n",
    "\n",
    "# Renovated Feature\n",
    "df[\"Renovated\"] = np.where(df[\"YearRemodAdd\"] != df[\"YearBuilt\"], 1, 0)\n"
   ]
  },
  {
   "cell_type": "markdown",
   "id": "a5dd123e",
   "metadata": {},
   "source": [
    "\n",
    "## Train-Test Split\n"
   ]
  },
  {
   "cell_type": "code",
   "execution_count": null,
   "id": "e467e569",
   "metadata": {},
   "outputs": [],
   "source": [
    "\n",
    "X = df.drop(columns=[\"SalePrice\"])\n",
    "y = df[\"SalePrice\"]\n",
    "\n",
    "X_train, X_test, y_train, y_test = train_test_split(X, y, test_size=0.2, random_state=42)\n"
   ]
  },
  {
   "cell_type": "markdown",
   "id": "7c4bc845",
   "metadata": {},
   "source": [
    "\n",
    "## Modeling\n",
    "We will train and compare three models:\n",
    "1. Linear Regression\n",
    "2. Random Forest Regressor\n",
    "3. Gradient Boosting Regressor\n"
   ]
  },
  {
   "cell_type": "code",
   "execution_count": null,
   "id": "06a86163",
   "metadata": {},
   "outputs": [],
   "source": [
    "\n",
    "models = {\n",
    "    \"Linear Regression\": LinearRegression(),\n",
    "    \"Random Forest\": RandomForestRegressor(random_state=42),\n",
    "    \"Gradient Boosting\": GradientBoostingRegressor(random_state=42)\n",
    "}\n",
    "\n",
    "for name, model in models.items():\n",
    "    model.fit(X_train, y_train)\n",
    "    preds = model.predict(X_test)\n",
    "    rmse = mean_squared_error(y_test, preds, squared=False)\n",
    "    r2 = r2_score(y_test, preds)\n",
    "    print(f\"{name} → RMSE: {rmse:.2f}, R²: {r2:.3f}\")\n"
   ]
  },
  {
   "cell_type": "markdown",
   "id": "dc0a6f4e",
   "metadata": {},
   "source": [
    "\n",
    "## Feature Importance\n"
   ]
  },
  {
   "cell_type": "code",
   "execution_count": null,
   "id": "02b28234",
   "metadata": {},
   "outputs": [],
   "source": [
    "\n",
    "rf_model = models[\"Random Forest\"]\n",
    "importances = rf_model.feature_importances_\n",
    "feature_names = X.columns\n",
    "\n",
    "feat_importances = pd.Series(importances, index=feature_names)\n",
    "feat_importances.nlargest(15).plot(kind=\"barh\", figsize=(8,6))\n",
    "plt.title(\"Top 15 Important Features\")\n",
    "plt.show()\n"
   ]
  },
  {
   "cell_type": "markdown",
   "id": "10e2fbc9",
   "metadata": {},
   "source": [
    "\n",
    "## Conclusion\n",
    "- We built multiple regression models to predict house sale prices.\n",
    "- Feature engineering improved model performance.\n",
    "- The most influential features include Overall Quality, Living Area, and Garage-related attributes.\n"
   ]
  }
 ],
 "metadata": {
  "kernelspec": {
   "display_name": "Python 3 (ipykernel)",
   "language": "python",
   "name": "python3"
  },
  "language_info": {
   "codemirror_mode": {
    "name": "ipython",
    "version": 3
   },
   "file_extension": ".py",
   "mimetype": "text/x-python",
   "name": "python",
   "nbconvert_exporter": "python",
   "pygments_lexer": "ipython3",
   "version": "3.12.3"
  },
  "toc": {
   "base_numbering": 1,
   "nav_menu": {},
   "number_sections": true,
   "sideBar": true,
   "skip_h1_title": false,
   "title_cell": "Table of Contents",
   "title_sidebar": "Contents",
   "toc_cell": false,
   "toc_position": {},
   "toc_section_display": true,
   "toc_window_display": false
  },
  "varInspector": {
   "cols": {
    "lenName": 16,
    "lenType": 16,
    "lenVar": 40
   },
   "kernels_config": {
    "python": {
     "delete_cmd_postfix": "",
     "delete_cmd_prefix": "del ",
     "library": "var_list.py",
     "varRefreshCmd": "print(var_dic_list())"
    },
    "r": {
     "delete_cmd_postfix": ") ",
     "delete_cmd_prefix": "rm(",
     "library": "var_list.r",
     "varRefreshCmd": "cat(var_dic_list()) "
    }
   },
   "types_to_exclude": [
    "module",
    "function",
    "builtin_function_or_method",
    "instance",
    "_Feature"
   ],
   "window_display": false
  }
 },
 "nbformat": 4,
 "nbformat_minor": 5
}
